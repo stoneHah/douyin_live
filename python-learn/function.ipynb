{
 "cells": [
  {
   "cell_type": "markdown",
   "source": [
    "# 函数式编程\n",
    "## 术语\n",
    "- 函数：不是在类中定义的就叫函数\n",
    "- 方法：在类中定义的就叫方法\n",
    "\n",
    "## 注意项\n",
    "- 由于python是解释性语言，所以函数的定义必须在函数调用之前\n"
   ],
   "metadata": {
    "collapsed": false
   }
  },
  {
   "cell_type": "markdown",
   "source": [
    "## 可变参数的定义\n",
    "- * 参数被组装成一个元组\n",
    "- ** 参数被组装成一个字典"
   ],
   "metadata": {
    "collapsed": false
   }
  },
  {
   "cell_type": "code",
   "execution_count": 7,
   "outputs": [
    {
     "name": "stdout",
     "output_type": "stream",
     "text": [
      "25.0\n",
      "--------------------------------\n",
      "380.0\n",
      "--------------------------------\n",
      "name -> stone\n",
      "age -> 18\n",
      "sex -> F\n",
      "--------------------------------\n",
      "name || stone\n",
      "age || 18\n",
      "sex || \n"
     ]
    }
   ],
   "source": [
    "from typing import Union\n",
    "\n",
    "def sum(*numbers: Union[int, float], multiple: float = 1) -> float:\n",
    "    total = 0.0\n",
    "    for num in numbers:\n",
    "        total += num\n",
    "    return total * multiple\n",
    "\n",
    "\n",
    "result = sum(1, 2, 3, 4, multiple=2.5)\n",
    "print(result)  # 输出：25.0\n",
    "\n",
    "print('--------------------------------')\n",
    "num_tuple = (50.0, 60, 80)\n",
    "# *num_tuple 标识对元组进行拆包: 50.0,60,80\n",
    "print(sum(*num_tuple, multiple=2))\n",
    "print('--------------------------------')\n",
    "\n",
    "def show_info(sep:str=':', **info):\n",
    "    for key,value in info.items():\n",
    "        print(f\"{key} {sep} {value}\")\n",
    "\n",
    "show_info(sep='->', name='stone',age=18,sex='F')\n",
    "print('--------------------------------')\n",
    "# 字典数据拆包\n",
    "stu = {'name': 'stone', 'age': 18, 'sex': ''}\n",
    "show_info(**stu,sep='||')\n"
   ],
   "metadata": {
    "collapsed": false,
    "ExecuteTime": {
     "start_time": "2023-07-10T16:17:39.779461Z",
     "end_time": "2023-07-10T16:17:39.832760Z"
    }
   }
  },
  {
   "cell_type": "markdown",
   "source": [
    "## 函数返回值\n",
    "- 使用元组实现多个返回值"
   ],
   "metadata": {
    "collapsed": false
   }
  },
  {
   "cell_type": "code",
   "execution_count": 8,
   "outputs": [],
   "source": [
    "def position(pos,mov):\n",
    "    return (pos[0] + mov[0],pos[1] + mov[1])"
   ],
   "metadata": {
    "collapsed": false,
    "ExecuteTime": {
     "start_time": "2023-07-10T16:17:39.822968Z",
     "end_time": "2023-07-10T16:17:40.009165Z"
    }
   }
  },
  {
   "cell_type": "markdown",
   "source": [
    "## 生成器\n",
    "通常函数返回使用return来返回数据，但有时候会使用yield关键字来返回数据。使用yield关键字返回的是一个生成器(generator)对象,此对象是一个可迭代对象"
   ],
   "metadata": {
    "collapsed": false
   }
  },
  {
   "cell_type": "code",
   "execution_count": 9,
   "outputs": [
    {
     "name": "stdout",
     "output_type": "stream",
     "text": [
      "1\n",
      "4\n",
      "9\n",
      "16\n",
      "25\n"
     ]
    }
   ],
   "source": [
    "def square(num):\n",
    "    for i in range(1,num + 1):\n",
    "        yield i * i\n",
    "\n",
    "for i in square(5):\n",
    "    print(i)"
   ],
   "metadata": {
    "collapsed": false,
    "ExecuteTime": {
     "start_time": "2023-07-10T16:55:40.263947Z",
     "end_time": "2023-07-10T16:55:40.333759Z"
    }
   }
  },
  {
   "cell_type": "markdown",
   "source": [
    "## 三大基础函数\n",
    "### filter\n",
    "可对迭代对象中的元素进行过滤   filter(function,iterable)"
   ],
   "metadata": {
    "collapsed": false
   }
  },
  {
   "cell_type": "code",
   "execution_count": 16,
   "outputs": [
    {
     "name": "stdout",
     "output_type": "stream",
     "text": [
      "['Tony', 'Tom']\n",
      "['Tony', 'Tom', 'Alex']\n"
     ]
    }
   ],
   "source": [
    "users = ['Tony', 'Tom', 'Alex']\n",
    "users_filter = filter(lambda u : u.startswith('T'),  users)\n",
    "print(list(users_filter))\n",
    "print(list(users))\n",
    "\n"
   ],
   "metadata": {
    "collapsed": false,
    "ExecuteTime": {
     "start_time": "2023-07-10T17:57:46.635740Z",
     "end_time": "2023-07-10T17:57:46.642720Z"
    }
   }
  },
  {
   "cell_type": "markdown",
   "source": [
    "### map\n",
    "对可迭代对象中的元素进行变换\n"
   ],
   "metadata": {
    "collapsed": false
   }
  },
  {
   "cell_type": "code",
   "execution_count": 19,
   "outputs": [
    {
     "name": "stdout",
     "output_type": "stream",
     "text": [
      "['tony', 'tom']\n"
     ]
    }
   ],
   "source": [
    "users_map = map(lambda u: u.lower(), filter(lambda u : u.startswith('T'),  users))\n",
    "print(list(users_map))\n"
   ],
   "metadata": {
    "collapsed": false,
    "ExecuteTime": {
     "start_time": "2023-07-10T18:02:14.257002Z",
     "end_time": "2023-07-10T18:02:14.262986Z"
    }
   }
  }
 ],
 "metadata": {
  "kernelspec": {
   "display_name": "Python 3",
   "language": "python",
   "name": "python3"
  },
  "language_info": {
   "codemirror_mode": {
    "name": "ipython",
    "version": 2
   },
   "file_extension": ".py",
   "mimetype": "text/x-python",
   "name": "python",
   "nbconvert_exporter": "python",
   "pygments_lexer": "ipython2",
   "version": "2.7.6"
  }
 },
 "nbformat": 4,
 "nbformat_minor": 0
}
