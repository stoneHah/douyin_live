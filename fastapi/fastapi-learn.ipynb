{
 "cells": [
  {
   "cell_type": "markdown",
   "metadata": {},
   "source": [
    "# FastAPI学习笔记"
   ]
  },
  {
   "cell_type": "markdown",
   "metadata": {},
   "source": [
    "## 路径参数"
   ]
  },
  {
   "cell_type": "code",
   "execution_count": 2,
   "metadata": {},
   "outputs": [],
   "source": [
    "from typing import Union\n",
    "\n",
    "from fastapi import FastAPI\n",
    "\n",
    "app = FastAPI()\n",
    "\n",
    "\n",
    "@app.get(\"/\")\n",
    "def read_root():\n",
    "    return {\"Hello\": \"World\"}\n",
    "\n",
    "\n",
    "@app.get(\"/items/{item_id}\")\n",
    "def read_item(item_id: int, q: Union[str, None] = None):\n",
    "    if q:\n",
    "        return {\"item_id\": item_id, \"q\": q}\n",
    "\n",
    "    return {\"item_id\": item_id}\n",
    "\n"
   ]
  },
  {
   "cell_type": "markdown",
   "source": [
    "## 查询参数"
   ],
   "metadata": {
    "collapsed": false
   }
  },
  {
   "cell_type": "code",
   "execution_count": null,
   "outputs": [],
   "source": [
    "fake_items_db = [{\"item_name\": \"Foo\"}, {\"item_name\": \"Bar\"}, {\"item_name\": \"Baz\"}]\n",
    "\n",
    "\n",
    "@app.get(\"/items/\")\n",
    "async def read_item(skip: int = 0, limit: int = 10):\n",
    "    return fake_items_db[skip : skip + limit]"
   ],
   "metadata": {
    "collapsed": false
   }
  },
  {
   "cell_type": "markdown",
   "source": [
    "## 启动web服务"
   ],
   "metadata": {
    "collapsed": false
   }
  },
  {
   "cell_type": "code",
   "execution_count": 3,
   "metadata": {},
   "outputs": [
    {
     "ename": "RuntimeError",
     "evalue": "asyncio.run() cannot be called from a running event loop",
     "output_type": "error",
     "traceback": [
      "\u001B[1;31m---------------------------------------------------------------------------\u001B[0m",
      "\u001B[1;31mRuntimeError\u001B[0m                              Traceback (most recent call last)",
      "Cell \u001B[1;32mIn[3], line 4\u001B[0m\n\u001B[0;32m      1\u001B[0m \u001B[39mimport\u001B[39;00m \u001B[39muvicorn\u001B[39;00m\n\u001B[1;32m----> 4\u001B[0m uvicorn\u001B[39m.\u001B[39;49mrun(app, host\u001B[39m=\u001B[39;49m\u001B[39m\"\u001B[39;49m\u001B[39m0.0.0.0\u001B[39;49m\u001B[39m\"\u001B[39;49m, port\u001B[39m=\u001B[39;49m\u001B[39m8000\u001B[39;49m)\n",
      "File \u001B[1;32mf:\\learn\\openai\\chatbot\\chatbox_env\\lib\\site-packages\\uvicorn\\main.py:568\u001B[0m, in \u001B[0;36mrun\u001B[1;34m(app, host, port, uds, fd, loop, http, ws, ws_max_size, ws_ping_interval, ws_ping_timeout, ws_per_message_deflate, lifespan, interface, reload, reload_dirs, reload_includes, reload_excludes, reload_delay, workers, env_file, log_config, log_level, access_log, proxy_headers, server_header, date_header, forwarded_allow_ips, root_path, limit_concurrency, backlog, limit_max_requests, timeout_keep_alive, ssl_keyfile, ssl_certfile, ssl_keyfile_password, ssl_version, ssl_cert_reqs, ssl_ca_certs, ssl_ciphers, headers, use_colors, app_dir, factory, h11_max_incomplete_event_size)\u001B[0m\n\u001B[0;32m    566\u001B[0m     Multiprocess(config, target\u001B[39m=\u001B[39mserver\u001B[39m.\u001B[39mrun, sockets\u001B[39m=\u001B[39m[sock])\u001B[39m.\u001B[39mrun()\n\u001B[0;32m    567\u001B[0m \u001B[39melse\u001B[39;00m:\n\u001B[1;32m--> 568\u001B[0m     server\u001B[39m.\u001B[39;49mrun()\n\u001B[0;32m    569\u001B[0m \u001B[39mif\u001B[39;00m config\u001B[39m.\u001B[39muds \u001B[39mand\u001B[39;00m os\u001B[39m.\u001B[39mpath\u001B[39m.\u001B[39mexists(config\u001B[39m.\u001B[39muds):\n\u001B[0;32m    570\u001B[0m     os\u001B[39m.\u001B[39mremove(config\u001B[39m.\u001B[39muds)  \u001B[39m# pragma: py-win32\u001B[39;00m\n",
      "File \u001B[1;32mf:\\learn\\openai\\chatbot\\chatbox_env\\lib\\site-packages\\uvicorn\\server.py:59\u001B[0m, in \u001B[0;36mServer.run\u001B[1;34m(self, sockets)\u001B[0m\n\u001B[0;32m     57\u001B[0m \u001B[39mdef\u001B[39;00m \u001B[39mrun\u001B[39m(\u001B[39mself\u001B[39m, sockets: Optional[List[socket\u001B[39m.\u001B[39msocket]] \u001B[39m=\u001B[39m \u001B[39mNone\u001B[39;00m) \u001B[39m-\u001B[39m\u001B[39m>\u001B[39m \u001B[39mNone\u001B[39;00m:\n\u001B[0;32m     58\u001B[0m     \u001B[39mself\u001B[39m\u001B[39m.\u001B[39mconfig\u001B[39m.\u001B[39msetup_event_loop()\n\u001B[1;32m---> 59\u001B[0m     \u001B[39mreturn\u001B[39;00m asyncio\u001B[39m.\u001B[39;49mrun(\u001B[39mself\u001B[39;49m\u001B[39m.\u001B[39;49mserve(sockets\u001B[39m=\u001B[39;49msockets))\n",
      "File \u001B[1;32m~\\AppData\\Local\\Programs\\Python\\Python310\\lib\\asyncio\\runners.py:33\u001B[0m, in \u001B[0;36mrun\u001B[1;34m(main, debug)\u001B[0m\n\u001B[0;32m      9\u001B[0m \u001B[39m\u001B[39m\u001B[39m\"\"\"Execute the coroutine and return the result.\u001B[39;00m\n\u001B[0;32m     10\u001B[0m \n\u001B[0;32m     11\u001B[0m \u001B[39mThis function runs the passed coroutine, taking care of\u001B[39;00m\n\u001B[1;32m   (...)\u001B[0m\n\u001B[0;32m     30\u001B[0m \u001B[39m    asyncio.run(main())\u001B[39;00m\n\u001B[0;32m     31\u001B[0m \u001B[39m\"\"\"\u001B[39;00m\n\u001B[0;32m     32\u001B[0m \u001B[39mif\u001B[39;00m events\u001B[39m.\u001B[39m_get_running_loop() \u001B[39mis\u001B[39;00m \u001B[39mnot\u001B[39;00m \u001B[39mNone\u001B[39;00m:\n\u001B[1;32m---> 33\u001B[0m     \u001B[39mraise\u001B[39;00m \u001B[39mRuntimeError\u001B[39;00m(\n\u001B[0;32m     34\u001B[0m         \u001B[39m\"\u001B[39m\u001B[39masyncio.run() cannot be called from a running event loop\u001B[39m\u001B[39m\"\u001B[39m)\n\u001B[0;32m     36\u001B[0m \u001B[39mif\u001B[39;00m \u001B[39mnot\u001B[39;00m coroutines\u001B[39m.\u001B[39miscoroutine(main):\n\u001B[0;32m     37\u001B[0m     \u001B[39mraise\u001B[39;00m \u001B[39mValueError\u001B[39;00m(\u001B[39m\"\u001B[39m\u001B[39ma coroutine was expected, got \u001B[39m\u001B[39m{!r}\u001B[39;00m\u001B[39m\"\u001B[39m\u001B[39m.\u001B[39mformat(main))\n",
      "\u001B[1;31mRuntimeError\u001B[0m: asyncio.run() cannot be called from a running event loop"
     ]
    }
   ],
   "source": [
    "import nest_asyncio\n",
    "import uvicorn\n",
    "\n",
    "if __name__ == \"__main__\":\n",
    "    nest_asyncio.apply()\n",
    "    uvicorn.run(app)"
   ]
  },
  {
   "cell_type": "markdown",
   "source": [
    "## OpenAPI 文档\n",
    "[http://127.0.0.1:8000/docs](http://127.0.0.1:8000/docs)"
   ],
   "metadata": {
    "collapsed": false
   }
  }
 ],
 "metadata": {
  "kernelspec": {
   "display_name": "chatbox_env",
   "language": "python",
   "name": "python3"
  },
  "language_info": {
   "codemirror_mode": {
    "name": "ipython",
    "version": 3
   },
   "file_extension": ".py",
   "mimetype": "text/x-python",
   "name": "python",
   "nbconvert_exporter": "python",
   "pygments_lexer": "ipython3",
   "version": "3.10.9"
  },
  "orig_nbformat": 4
 },
 "nbformat": 4,
 "nbformat_minor": 2
}
